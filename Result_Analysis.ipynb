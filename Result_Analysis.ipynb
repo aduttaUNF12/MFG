{
 "cells": [
  {
   "cell_type": "code",
   "execution_count": 2,
   "metadata": {},
   "outputs": [
    {
     "name": "stdout",
     "output_type": "stream",
     "text": [
      "CPU times: user 1.73 ms, sys: 371 µs, total: 2.1 ms\n",
      "Wall time: 147 ms\n"
     ]
    }
   ],
   "source": [
    "%%time\n",
    "\"\"\"\n",
    "Importing Modules\n",
    "\"\"\"\n",
    "\n",
    "import pickle, sys, os\n",
    "import numpy as np\n",
    "from matplotlib import pyplot as plt\n",
    "\n",
    "sys.path.append(os.path.realpath('/run/user/1000/gvfs/sftp:host=newton,user=skhodadadeh/home/skhodadadeh/MFG-MARL-IPP/'))\n",
    "\n",
    "# sys.path.append(os.path.realpath('../MFG-MARL-IPP'))\n",
    "from visuals.video_generation.visualization import Visualization\n",
    "from visuals.visual_results import data_from_exp"
   ]
  },
  {
   "cell_type": "code",
   "execution_count": 3,
   "metadata": {},
   "outputs": [
    {
     "name": "stdout",
     "output_type": "stream",
     "text": [
      "CPU times: user 6 µs, sys: 1 µs, total: 7 µs\n",
      "Wall time: 12.4 µs\n"
     ]
    }
   ],
   "source": [
    "%%time\n",
    "\"\"\"\n",
    "Base Constants \n",
    "\"\"\"\n",
    "\n",
    "BUDGET_PERCENT = True\n",
    "QUEUE_PERCENT = False\n",
    "PUNISHMENT = False\n",
    "TELEPORT_INCLUDED = True\n",
    "\n",
    "BASE_DIR = \"/run/user/1000/gvfs/sftp:host=newton,user=skhodadadeh/home/skhodadadeh/MFG-MARL-IPP/data/\"\n",
    "# BASE_DIR = \"data/\"\n",
    "CURRENT_FILE_NAME = \"_outputs/mixed_variables/scenario.0.1614614987.5974162/pickle.pkl\"\n",
    "\n",
    "COMPUTE_AGENT_AVERAGE = False\n",
    "\n",
    "METRIC_OF_INTEREST = 0\n",
    "interesting_metrics = [ ('mut-dia', \"Mutual-Information (nats)\"), ('rsme', \"Root Mean Square Error (unit)\"), ('exe_tim', \"Execution Time (seconds)\") ]"
   ]
  },
  {
   "cell_type": "code",
   "execution_count": 4,
   "metadata": {},
   "outputs": [
    {
     "name": "stdout",
     "output_type": "stream",
     "text": [
      "CPU times: user 6 µs, sys: 0 ns, total: 6 µs\n",
      "Wall time: 8.34 µs\n"
     ]
    }
   ],
   "source": [
    "%%time\n",
    "\"\"\"\n",
    "Derived Constants \n",
    "\"\"\"\n",
    "INPUT_DIR = BASE_DIR + \"_inputs/\"\n",
    "OUTPUT_DIR = BASE_DIR + \"_outputs/\"\n",
    "\n",
    "FOCUSED_INPUT_DIR = INPUT_DIR + CURRENT_FILE_NAME\n",
    "FOCUSED_OUTPUT_DIR = OUTPUT_DIR + CURRENT_FILE_NAME\n",
    "\n",
    "BUDGET_DIR = FOCUSED_INPUT_DIR + \"budget_percent/\"\n",
    "QUEUE_DIR = FOCUSED_INPUT_DIR + \"queue_percent/\"\n",
    "PUNISH_DIR = FOCUSED_INPUT_DIR + \"punishment/\"\n",
    "\n",
    "METRIC_KEY = interesting_metrics[METRIC_OF_INTEREST][0]\n",
    "METRIC_NAME = (\"Agent-Average \" + interesting_metrics[METRIC_OF_INTEREST][1]) if COMPUTE_AGENT_AVERAGE else (\"Total \" + interesting_metrics[METRIC_OF_INTEREST][1])"
   ]
  },
  {
   "cell_type": "code",
   "execution_count": 5,
   "metadata": {},
   "outputs": [
    {
     "name": "stdout",
     "output_type": "stream",
     "text": [
      "CPU times: user 6 µs, sys: 0 ns, total: 6 µs\n",
      "Wall time: 9.78 µs\n"
     ]
    }
   ],
   "source": [
    "%%time\n",
    "\"\"\"\n",
    "Functions\n",
    "\"\"\"\n",
    "\n",
    "#importing pickle data when directory is formatted as \"{variable}/{value}/agent_num={agent number}/{pickle name}.pkl\"\n",
    "def get_results(var_directory):\n",
    "    results = {}\n",
    "    with os.scandir(var_directory) as var_entries:\n",
    "        for var_entry in var_entries:\n",
    "            current_value = var_entry.name\n",
    "            val_directory = var_directory + f\"{var_entry.name}/\"\n",
    "            \n",
    "            with os.scandir(val_directory) as val_entries:\n",
    "                for val_entry in val_entries:\n",
    "                    current_agent_number = val_entry.name[10:]\n",
    "                    agent_directory = val_directory + f\"{val_entry.name}/\"\n",
    "                    \n",
    "                    with os.scandir(agent_directory) as agent_entries:\n",
    "                        for agent_entry in agent_entries:                             \n",
    "                            if \".pkl\" in agent_entry.name:\n",
    "                                results_directory = agent_directory + agent_entry.name\n",
    "                                \n",
    "                                with open(results_directory, 'rb') as file:\n",
    "                                    \n",
    "                                    if current_value not in results:\n",
    "                                        results[current_value] = {}\n",
    "                                    \n",
    "                                    if current_agent_number not in results[current_value]:\n",
    "                                        results[current_value][current_agent_number] = []\n",
    "                                    \n",
    "                                    pickle_content = pickle.load(file)\n",
    "                                    results[current_value][current_agent_number].append(pickle_content)\n",
    "    return results\n",
    "\n",
    "\n",
    "def compute_averages(all_results, desired_metrics, method, agent_average=False, max_metric_to_follow=None):\n",
    "    averages = {}\n",
    "    \n",
    "    for val in all_results:\n",
    "        for agent_num in all_results[val]:\n",
    "            for metric in desired_metrics:\n",
    "                for result in all_results[val][agent_num]:\n",
    "                    \n",
    "                    if val not in averages:\n",
    "                        averages[val] = {}\n",
    "\n",
    "                    if agent_num not in averages[val]:\n",
    "                        averages[val][agent_num] = {}\n",
    "\n",
    "                    if metric not in averages[val][agent_num]:\n",
    "                        averages[val][agent_num][metric] = 0.0\n",
    "                    \n",
    "                    epi = None\n",
    "                    \n",
    "                    if method == 'model':\n",
    "                        if max_metric_to_follow is None:\n",
    "                            training_results = result['all_measurements'][metric][:result['all_params']['tra_params']['episodes']]\n",
    "                            epi = training_results.index(np.max(training_results))\n",
    "                        else:\n",
    "                            training_results = result['all_measurements'][max_metric_to_follow][:result['all_params']['tra_params']['episodes']]\n",
    "                            epi = training_results.index(np.max(training_results))\n",
    "\n",
    "                    else:\n",
    "                        epi = result['relevant_testing_results'][\"standard_starts\"][method]['epi']\n",
    "                        \n",
    "                    \n",
    "                    divisor = 1\n",
    "                    if agent_average:\n",
    "                        divisor = float(agent_num)\n",
    "                        \n",
    "                    averages[val][agent_num][metric] = averages[val][agent_num][metric] + result['all_measurements'][metric][epi] / len(all_results[val][agent_num]) / divisor                       \n",
    "                    print(('val', val), ('actual_agent_num', result['all_params']['sim_params']['agent_num']), ('method', method), ('meas', result['all_measurements'][metric][epi]))\n",
    "    return averages"
   ]
  },
  {
   "cell_type": "code",
   "execution_count": 6,
   "metadata": {},
   "outputs": [
    {
     "ename": "FileNotFoundError",
     "evalue": "[Errno 2] No such file or directory: '/run/user/1000/gvfs/sftp:host=newton,user=skhodadadeh/home/skhodadadeh/MFG-MARL-IPP/data/_inputs/Wave_3/budget_percent/'",
     "output_type": "error",
     "traceback": [
      "\u001B[0;31m---------------------------------------------------------------------------\u001B[0m",
      "\u001B[0;31mFileNotFoundError\u001B[0m                         Traceback (most recent call last)",
      "\u001B[0;32m<timed exec>\u001B[0m in \u001B[0;36m<module>\u001B[0;34m\u001B[0m\n",
      "\u001B[0;32m<timed exec>\u001B[0m in \u001B[0;36mget_results\u001B[0;34m(var_directory)\u001B[0m\n",
      "\u001B[0;31mFileNotFoundError\u001B[0m: [Errno 2] No such file or directory: '/run/user/1000/gvfs/sftp:host=newton,user=skhodadadeh/home/skhodadadeh/MFG-MARL-IPP/data/_inputs/Wave_3/budget_percent/'"
     ]
    }
   ],
   "source": [
    "%%time\n",
    "\"\"\"\n",
    "Importing Pickle Data\n",
    "\"\"\"\n",
    "\n",
    "budget_results = None\n",
    "queue_results = None\n",
    "punish_results = None\n",
    "\n",
    "if BUDGET_PERCENT:\n",
    "    budget_results = get_results(BUDGET_DIR)\n",
    "    \n",
    "if QUEUE_PERCENT:\n",
    "    queue_results = get_results(QUEUE_DIR)\n",
    "\n",
    "if PUNISHMENT:\n",
    "    punish_results = get_results(PUNISH_DIR)"
   ]
  },
  {
   "cell_type": "code",
   "execution_count": 7,
   "metadata": {},
   "outputs": [
    {
     "ename": "TypeError",
     "evalue": "'NoneType' object is not iterable",
     "output_type": "error",
     "traceback": [
      "\u001B[0;31m---------------------------------------------------------------------------\u001B[0m",
      "\u001B[0;31mTypeError\u001B[0m                                 Traceback (most recent call last)",
      "\u001B[0;32m<timed exec>\u001B[0m in \u001B[0;36m<module>\u001B[0;34m\u001B[0m\n",
      "\u001B[0;32m<timed exec>\u001B[0m in \u001B[0;36mcompute_averages\u001B[0;34m(all_results, desired_metrics, method, agent_average, max_metric_to_follow)\u001B[0m\n",
      "\u001B[0;31mTypeError\u001B[0m: 'NoneType' object is not iterable"
     ]
    }
   ],
   "source": [
    "%%time\n",
    "\"\"\"\n",
    "Computing Best-Training, Greedy and Random Averages\n",
    "\"\"\"\n",
    "\n",
    "budget_averages = None\n",
    "queue_averages = None\n",
    "punish_averages = None\n",
    "\n",
    "averages_to_compute = []\n",
    "for info in interesting_metrics[:1]:\n",
    "    averages_to_compute.append(info[0])\n",
    "\n",
    "\n",
    "if BUDGET_PERCENT:\n",
    "    budget_averages = {}\n",
    "    budget_averages['model'] = compute_averages(budget_results, averages_to_compute, 'model', agent_average=COMPUTE_AGENT_AVERAGE, max_metric_to_follow='mut-dia')\n",
    "    budget_averages['greedy'] = compute_averages(budget_results, averages_to_compute, 'greedy', agent_average=COMPUTE_AGENT_AVERAGE)\n",
    "    budget_averages['random'] = compute_averages(budget_results, averages_to_compute, 'random', agent_average=COMPUTE_AGENT_AVERAGE)\n",
    "    \n",
    "if QUEUE_PERCENT:\n",
    "    queue_averages = {}\n",
    "    queue_averages['model'] = compute_averages(queue_results, averages_to_compute, 'model', agent_average=COMPUTE_AGENT_AVERAGE, max_metric_to_follow='mut-dia')\n",
    "    queue_averages['greedy'] = compute_averages(queue_results, averages_to_compute, 'greedy', agent_average=COMPUTE_AGENT_AVERAGE)\n",
    "    queue_averages['random'] = compute_averages(queue_results, averages_to_compute, 'random', agent_average=COMPUTE_AGENT_AVERAGE)\n",
    "\n",
    "if PUNISHMENT:\n",
    "    punish_averages = {}\n",
    "    punish_averages['model'] = compute_averages(punish_results, averages_to_compute, 'model', agent_average=COMPUTE_AGENT_AVERAGE, max_metric_to_follow='mut-dia')\n",
    "    punish_averages['greedy'] = compute_averages(punish_results, averages_to_compute, 'greedy', agent_average=COMPUTE_AGENT_AVERAGE)\n",
    "    punish_averages['random'] = compute_averages(punish_results, averages_to_compute, 'random', agent_average=COMPUTE_AGENT_AVERAGE)"
   ]
  },
  {
   "cell_type": "code",
   "execution_count": 8,
   "metadata": {},
   "outputs": [
    {
     "ename": "TypeError",
     "evalue": "'NoneType' object is not iterable",
     "output_type": "error",
     "traceback": [
      "\u001B[0;31m---------------------------------------------------------------------------\u001B[0m",
      "\u001B[0;31mTypeError\u001B[0m                                 Traceback (most recent call last)",
      "\u001B[0;32m<timed exec>\u001B[0m in \u001B[0;36m<module>\u001B[0;34m\u001B[0m\n",
      "\u001B[0;31mTypeError\u001B[0m: 'NoneType' object is not iterable"
     ]
    }
   ],
   "source": [
    "%%time\n",
    "\"\"\"\n",
    "Number of Agents v. Metric\n",
    "\"\"\"\n",
    "if BUDGET_PERCENT:\n",
    "    count = 0\n",
    "    for val in budget_results:\n",
    "        models = []\n",
    "        labels = []\n",
    "        agent_num_keys = [int(agent_num) for agent_num in budget_results[val]]\n",
    "        agent_num_keys.sort()\n",
    "        for agent_num in agent_num_keys:\n",
    "            models.append(budget_averages['model'][val][str(agent_num)][METRIC_KEY])\n",
    "            labels.append(agent_num)\n",
    "\n",
    "        if count == 0:\n",
    "            plt.plot(labels, models, linestyle='-', marker='X', color='b', label=f\"B%={100*float(val)}%\")\n",
    "        else:\n",
    "            plt.plot(labels, models, linestyle='-', marker='X', color='r', label=f\"B%={100*float(val)}%\")\n",
    "\n",
    "        count = 1\n",
    "\n",
    "    plt.ylabel(METRIC_NAME)\n",
    "    plt.xlabel(\"Number of Agents\")\n",
    "    plt.legend()\n",
    "    plt.show()"
   ]
  },
  {
   "cell_type": "code",
   "execution_count": 9,
   "metadata": {},
   "outputs": [
    {
     "ename": "TypeError",
     "evalue": "'NoneType' object is not iterable",
     "output_type": "error",
     "traceback": [
      "\u001B[0;31m---------------------------------------------------------------------------\u001B[0m",
      "\u001B[0;31mTypeError\u001B[0m                                 Traceback (most recent call last)",
      "\u001B[0;32m<timed exec>\u001B[0m in \u001B[0;36m<module>\u001B[0;34m\u001B[0m\n",
      "\u001B[0;31mTypeError\u001B[0m: 'NoneType' object is not iterable"
     ]
    }
   ],
   "source": [
    "%%time\n",
    "\"\"\"\n",
    "Number of Agents v. Exploration Method v. Metric\n",
    "\"\"\"\n",
    "\n",
    "if BUDGET_PERCENT:\n",
    "    for val in budget_results:\n",
    "        models = []\n",
    "        greedys = []\n",
    "        randoms = []\n",
    "        labels = []\n",
    "        agent_num_keys = [int(agent_num) for agent_num in budget_results[val]]\n",
    "        agent_num_keys.sort()\n",
    "        for agent_num in agent_num_keys:\n",
    "            models.append(budget_averages['model'][val][str(agent_num)][METRIC_KEY])\n",
    "            greedys.append(budget_averages['greedy'][val][str(agent_num)][METRIC_KEY])\n",
    "            #randoms.append(budget_averages['random'][val][str(agent_num)][METRIC_KEY])\n",
    "            labels.append(agent_num)\n",
    "\n",
    "        print(models, greedys, randoms)\n",
    "\n",
    "        bar_width = 0.25\n",
    "\n",
    "        models_pos = np.arange(len(labels))\n",
    "        greedys_pos = [x + bar_width for x in models_pos]\n",
    "        #randoms_pos = [x + bar_width for x in greedys_pos]\n",
    "\n",
    "        plt.bar(models_pos, models, color='#ff0000', width=bar_width, edgecolor='white', label='model')\n",
    "        plt.bar(greedys_pos, greedys, color='#00ff00', width=bar_width, edgecolor='white', label='greedy')\n",
    "        #plt.bar(randoms_pos, randoms, color='#0000ff', width=bar_width, edgecolor='white', label='random')\n",
    "\n",
    "        plt.xlabel('Number of Agents')\n",
    "        plt.ylabel(f\"[B%={100*float(val)}] {METRIC_NAME}\")\n",
    "        plt.xticks([r + bar_width for r in range(len(models))], labels)\n",
    "\n",
    "        plt.legend()\n",
    "        plt.show()"
   ]
  },
  {
   "cell_type": "code",
   "execution_count": 9,
   "metadata": {},
   "outputs": [
    {
     "name": "stdout",
     "output_type": "stream",
     "text": [
      "Wall time: 0 ns\n"
     ]
    }
   ],
   "source": [
    "%%time\n",
    "\"\"\"\n",
    "Queue Percent v. Metric\n",
    "\"\"\"\n",
    "if QUEUE_PERCENT:\n",
    "    models = []\n",
    "    labels = []\n",
    "\n",
    "    for val in queue_results:\n",
    "        agent_num_keys = [int(agent_num) for agent_num in queue_results[val]]\n",
    "        agent_num_keys.sort()\n",
    "        for agent_num in agent_num_keys:\n",
    "            models.append(queue_averages['model'][val][str(agent_num)][METRIC_KEY])\n",
    "            labels.append(val)\n",
    "\n",
    "    plt.plot(labels, models, linestyle='-', marker='X', color='b')\n",
    "    plt.ylabel(f\"[B%=50%] {METRIC_NAME}\")\n",
    "    plt.xlabel(\"Queue Percent\")\n",
    "    plt.show()"
   ]
  },
  {
   "cell_type": "code",
   "execution_count": 10,
   "metadata": {},
   "outputs": [
    {
     "name": "stdout",
     "output_type": "stream",
     "text": [
      "\n",
      " model 10\n",
      "Getting visualization..."
     ]
    },
    {
     "ename": "error",
     "evalue": "Couldn't open data/_outputs/Wave_3/model/agent_num=10//frame0.png",
     "output_type": "error",
     "traceback": [
      "\u001B[1;31m---------------------------------------------------------------------------\u001B[0m",
      "\u001B[1;31merror\u001B[0m                                     Traceback (most recent call last)",
      "\u001B[1;32m<timed exec>\u001B[0m in \u001B[0;36m<module>\u001B[1;34m\u001B[0m\n",
      "\u001B[1;32mD:\\Work\\Academic\\Dutta\\Precision_Agriculture\\Implementation\\impl\\MFG-MARL-IPP\\visuals\\video_generation\\visualization.py\u001B[0m in \u001B[0;36mvisualize\u001B[1;34m(self)\u001B[0m\n\u001B[0;32m    182\u001B[0m                             \u001B[0mtextRect\u001B[0m\u001B[1;33m[\u001B[0m\u001B[0midx\u001B[0m\u001B[1;33m]\u001B[0m\u001B[1;33m.\u001B[0m\u001B[0mbottomleft\u001B[0m \u001B[1;33m=\u001B[0m \u001B[1;33m(\u001B[0m\u001B[0mx\u001B[0m\u001B[1;33m.\u001B[0m\u001B[0mcornerx\u001B[0m\u001B[1;33m,\u001B[0m\u001B[0mx\u001B[0m\u001B[1;33m.\u001B[0m\u001B[0mcornery\u001B[0m \u001B[1;33m-\u001B[0m \u001B[0mself\u001B[0m\u001B[1;33m.\u001B[0m\u001B[0mscale\u001B[0m \u001B[1;33m//\u001B[0m \u001B[1;36m2\u001B[0m\u001B[1;33m)\u001B[0m\u001B[1;33m\u001B[0m\u001B[1;33m\u001B[0m\u001B[0m\n\u001B[0;32m    183\u001B[0m                             \u001B[0mscreen\u001B[0m\u001B[1;33m.\u001B[0m\u001B[0mblit\u001B[0m\u001B[1;33m(\u001B[0m\u001B[0mtext\u001B[0m\u001B[1;33m[\u001B[0m\u001B[0midx\u001B[0m\u001B[1;33m]\u001B[0m\u001B[1;33m,\u001B[0m \u001B[0mtextRect\u001B[0m\u001B[1;33m[\u001B[0m\u001B[0midx\u001B[0m\u001B[1;33m]\u001B[0m\u001B[1;33m)\u001B[0m\u001B[1;33m\u001B[0m\u001B[1;33m\u001B[0m\u001B[0m\n\u001B[1;32m--> 184\u001B[1;33m                             \u001B[0mpygame\u001B[0m\u001B[1;33m.\u001B[0m\u001B[0mimage\u001B[0m\u001B[1;33m.\u001B[0m\u001B[0msave\u001B[0m\u001B[1;33m(\u001B[0m\u001B[0mscreen\u001B[0m\u001B[1;33m,\u001B[0m\u001B[0mself\u001B[0m\u001B[1;33m.\u001B[0m\u001B[0mexportDirectory\u001B[0m \u001B[1;33m+\u001B[0m \u001B[1;34m\"frame\"\u001B[0m \u001B[1;33m+\u001B[0m \u001B[0mstr\u001B[0m\u001B[1;33m(\u001B[0m\u001B[0mmovecount\u001B[0m\u001B[1;33m)\u001B[0m \u001B[1;33m+\u001B[0m \u001B[1;34m\".png\"\u001B[0m\u001B[1;33m)\u001B[0m\u001B[1;33m\u001B[0m\u001B[1;33m\u001B[0m\u001B[0m\n\u001B[0m\u001B[0;32m    185\u001B[0m                         \u001B[1;31m#all_sprites.draw(screen)\u001B[0m\u001B[1;33m\u001B[0m\u001B[1;33m\u001B[0m\u001B[1;33m\u001B[0m\u001B[0m\n\u001B[0;32m    186\u001B[0m \u001B[1;33m\u001B[0m\u001B[0m\n",
      "\u001B[1;31merror\u001B[0m: Couldn't open data/_outputs/Wave_3/model/agent_num=10//frame0.png"
     ]
    },
    {
     "data": {
      "text/plain": [
       "<Figure size 432x288 with 0 Axes>"
      ]
     },
     "metadata": {},
     "output_type": "display_data"
    }
   ],
   "source": [
    "%%time\n",
    "\"\"\"\n",
    "Generating Videos\n",
    "\"\"\"\n",
    "\n",
    "if BUDGET_PERCENT:\n",
    "    budget_percent = '0.4'\n",
    "     \n",
    "    for method in budget_averages:\n",
    "        for agent_num in budget_results[budget_percent]:\n",
    "            export_directory = FOCUSED_OUTPUT_DIR + f\"{method}/agent_num={agent_num}/\"\n",
    "            print(\"\\n\", method, agent_num)\n",
    "\n",
    "            result = budget_results[budget_percent][agent_num][0]\n",
    "            agent_exp = None\n",
    "            if method == 'model':\n",
    "                agent_exp = result['relevant_training_episodes']['hi_mut-dia']['exp']\n",
    "            else:\n",
    "                agent_exp = result['relevant_testing_results']['standard_starts'][method]['exp']\n",
    "\n",
    "            paths, heats = data_from_exp(agent_exp, result['all_params'])\n",
    "            world_dims = result['all_params']['sim_params']['world_dim']\n",
    "\n",
    "\n",
    "            v = Visualization(moves=paths, groundTruth=[[0]*np.prod(world_dims)], heatmaps=[[]], exportDirectory=export_directory, \n",
    "                             suppressOutput=1, suppressVideo=0, datadisplayed=(), dimensions=world_dims, scale=7)\n",
    "            v.visualize()"
   ]
  },
  {
   "cell_type": "code",
   "execution_count": 11,
   "metadata": {},
   "outputs": [
    {
     "name": "stdout",
     "output_type": "stream",
     "text": [
      "Wall time: 0 ns\n"
     ]
    }
   ],
   "source": [
    "%%time\n",
    "\"\"\"\n",
    "Punishment v. Metric\n",
    "\"\"\"\n",
    "\n",
    "if PUNISHMENT:\n",
    "    \n",
    "    models = []\n",
    "    greedys = []\n",
    "    randoms = []\n",
    "    labels = []\n",
    "    keys = [float(key) for key in punish_results]\n",
    "    keys.sort()\n",
    "    for punish in keys:\n",
    "        models.append(punish_averages['model'][str(punish)][str(3)][METRIC_KEY])\n",
    "        greedys.append(punish_averages['greedy'][str(punish)][str(3)][METRIC_KEY])\n",
    "        if punish == min(keys):\n",
    "            randoms.append(0)#randoms.append(punish_averages['random'][punish][str(3)][METRIC_KEY])\n",
    "        else:\n",
    "            randoms.append(0)#randoms.append(punish_averages['random'][str(punish)][str(3)][METRIC_KEY])\n",
    "        labels.append(punish)\n",
    "\n",
    "    print(models, greedys, randoms)\n",
    "\n",
    "    bar_width = 0.25\n",
    "\n",
    "    models_pos = np.arange(len(labels))\n",
    "    greedys_pos = [x + bar_width for x in models_pos]\n",
    "    randoms_pos = [x + bar_width for x in greedys_pos]\n",
    "\n",
    "    plt.bar(models_pos, models, color='#ff0000', width=bar_width, edgecolor='white', label='model')\n",
    "    plt.bar(randoms_pos, randoms, color='#0000ff', width=bar_width, edgecolor='white', label='random')\n",
    "    plt.bar(greedys_pos, greedys, color='#00ff00', width=bar_width, edgecolor='white', label='greedy')\n",
    "\n",
    "    plt.xlabel('Punishment Value')\n",
    "    plt.ylabel(f\"[B%=40%] {METRIC_NAME}\")\n",
    "    plt.xticks([r + bar_width for r in range(len(models))], labels)\n",
    "\n",
    "    plt.legend()\n",
    "    plt.show()"
   ]
  },
  {
   "cell_type": "code",
   "execution_count": 12,
   "metadata": {},
   "outputs": [
    {
     "name": "stdout",
     "output_type": "stream",
     "text": [
      "('val', '0.4') ('actual_agent_num', 3) ('method', 'model') ('meas', 2.0204681977299543)\n",
      "('val', '0.4') ('actual_agent_num', 3) ('method', 'model') ('meas', 2.039506004374857)\n",
      "('val', '0.4') ('actual_agent_num', 3) ('method', 'model') ('meas', 1.9856226912756938)\n",
      "('val', '0.5') ('actual_agent_num', 3) ('method', 'model') ('meas', 1.56765454085172)\n",
      "('val', '0.5') ('actual_agent_num', 3) ('method', 'model') ('meas', 1.5622766202027236)\n",
      "('val', '0.4') ('actual_agent_num', 3) ('method', 'greedy') ('meas', 1.9471975820087266)\n",
      "('val', '0.4') ('actual_agent_num', 3) ('method', 'greedy') ('meas', 1.906466620270308)\n",
      "('val', '0.4') ('actual_agent_num', 3) ('method', 'greedy') ('meas', 1.8321032505224508)\n",
      "('val', '0.5') ('actual_agent_num', 3) ('method', 'greedy') ('meas', 1.5277627991557665)\n",
      "('val', '0.5') ('actual_agent_num', 3) ('method', 'greedy') ('meas', 1.537989431955566)\n",
      "('val', '0.4') ('actual_agent_num', 3) ('method', 'random') ('meas', 1.0163628318453846)\n",
      "('val', '0.4') ('actual_agent_num', 3) ('method', 'random') ('meas', 0.7915235340373385)\n",
      "('val', '0.4') ('actual_agent_num', 3) ('method', 'random') ('meas', 0.8356717442432284)\n",
      "('val', '0.5') ('actual_agent_num', 3) ('method', 'random') ('meas', 0.9802216534126984)\n",
      "('val', '0.5') ('actual_agent_num', 3) ('method', 'random') ('meas', 0.6785337562597249)\n",
      "('val', '0.4') ('actual_agent_num', 3) ('method', 'bad_teleport') ('meas', 1.1691139034743117)\n",
      "('val', '0.4') ('actual_agent_num', 3) ('method', 'bad_teleport') ('meas', 1.1691139034751217)\n",
      "('val', '0.4') ('actual_agent_num', 3) ('method', 'bad_teleport') ('meas', 1.1691139034757185)\n",
      "('val', '0.5') ('actual_agent_num', 3) ('method', 'bad_teleport') ('meas', 1.1691139029333897)\n",
      "('val', '0.5') ('actual_agent_num', 3) ('method', 'bad_teleport') ('meas', 1.1691139029331339)\n",
      "('val', '0.4') ('actual_agent_num', 3) ('method', 'good_teleport') ('meas', 2.1284858611142425)\n",
      "('val', '0.4') ('actual_agent_num', 3) ('method', 'good_teleport') ('meas', 2.1308999504131805)\n",
      "('val', '0.4') ('actual_agent_num', 3) ('method', 'good_teleport') ('meas', 2.1284858611161184)\n",
      "('val', '0.5') ('actual_agent_num', 3) ('method', 'good_teleport') ('meas', 2.1076607967400207)\n",
      "('val', '0.5') ('actual_agent_num', 3) ('method', 'good_teleport') ('meas', 2.10766079673985)\n",
      "Wall time: 3.72 s\n"
     ]
    }
   ],
   "source": [
    "%%time\n",
    "teleport_averages = None\n",
    "teleport_results = None\n",
    "if TELEPORT_INCLUDED:\n",
    "    teleport_averages = {}\n",
    "    teleport_results = {}\n",
    "    teleport_results = get_results(\"data/_inputs/Wave_3.1/budget_percent/\")\n",
    "    teleport_averages['model'] = compute_averages(teleport_results, averages_to_compute, 'model', agent_average=COMPUTE_AGENT_AVERAGE, max_metric_to_follow='mut-dia')\n",
    "    teleport_averages['greedy'] = compute_averages(teleport_results, averages_to_compute, 'greedy', agent_average=COMPUTE_AGENT_AVERAGE)\n",
    "    teleport_averages['random'] = compute_averages(teleport_results, averages_to_compute, 'random', agent_average=COMPUTE_AGENT_AVERAGE)\n",
    "    teleport_averages['bad_teleport'] = compute_averages(teleport_results, averages_to_compute, 'bad_teleport', agent_average=COMPUTE_AGENT_AVERAGE)\n",
    "    teleport_averages['good_teleport'] = compute_averages(teleport_results, averages_to_compute, 'good_teleport', agent_average=COMPUTE_AGENT_AVERAGE)        "
   ]
  },
  {
   "cell_type": "code",
   "execution_count": 13,
   "metadata": {},
   "outputs": [
    {
     "name": "stdout",
     "output_type": "stream",
     "text": [
      "[2.0151989644601684, 1.895255817600495, 2.129290557547847, 1.1691139034750506, 0.8811860367086504]\n"
     ]
    },
    {
     "data": {
      "image/png": "[encoded data removed]",
      "text/plain": [
       "<Figure size 432x288 with 1 Axes>"
      ]
     },
     "metadata": {
      "needs_background": "light"
     },
     "output_type": "display_data"
    },
    {
     "name": "stdout",
     "output_type": "stream",
     "text": [
      "[1.5649655805272218, 1.5328761155556663, 2.1076607967399354, 1.1691139029332618, 0.8293777048362116]\n"
     ]
    },
    {
     "data": {
      "image/png": "[encoded data removed]",
      "text/plain": [
       "<Figure size 432x288 with 1 Axes>"
      ]
     },
     "metadata": {
      "needs_background": "light"
     },
     "output_type": "display_data"
    },
    {
     "name": "stdout",
     "output_type": "stream",
     "text": [
      "Wall time: 337 ms\n"
     ]
    }
   ],
   "source": [
    "%%time\n",
    "\n",
    "if TELEPORT_INCLUDED:\n",
    "    labels = ['model', 'greedy', 'good_teleport', 'bad_teleport', 'random']\n",
    "    results4 = [teleport_averages[label][str(0.4)][str(3)][METRIC_KEY] for label in labels]\n",
    "    results5 = [teleport_averages[label][str(0.5)][str(3)][METRIC_KEY] for label in labels]\n",
    "\n",
    "    positions = np.arange(len(labels))\n",
    "    positions = 1.5*positions\n",
    "\n",
    "    print(results4)\n",
    "    plt.bar(positions, results4)\n",
    "    plt.xticks(positions, labels)\n",
    "    plt.xlabel('Navigation Method')\n",
    "    plt.ylabel(f\"[B%=40%] {METRIC_NAME}\")\n",
    "    plt.show()\n",
    "\n",
    "    print(results5)\n",
    "    plt.bar(positions, results5)\n",
    "    plt.xticks(positions, labels)\n",
    "    plt.xlabel('Navigation Method')\n",
    "    plt.ylabel(f\"[B%=50%] {METRIC_NAME}\")\n",
    "    plt.show()"
   ]
  },
  {
   "cell_type": "code",
   "execution_count": 14,
   "metadata": {},
   "outputs": [
    {
     "name": "stdout",
     "output_type": "stream",
     "text": [
      "\n",
      " model 0.4\n",
      "Output Directory: data/_outputs/Wave_3.1/model/agent_num=3/\n",
      "Getting visualization...Saving output.\n",
      "Getting coverage...Saving output.\n",
      "\n",
      " greedy 0.4\n",
      "Output Directory: data/_outputs/Wave_3.1/greedy/agent_num=3/\n",
      "Getting visualization...Saving output.\n",
      "Getting coverage...Saving output.\n",
      "\n",
      " random 0.4\n",
      "Output Directory: data/_outputs/Wave_3.1/random/agent_num=3/\n",
      "Getting visualization...Saving output.\n",
      "Getting coverage...Saving output.\n",
      "\n",
      " bad_teleport 0.4\n",
      "Output Directory: data/_outputs/Wave_3.1/bad_teleport/agent_num=3/\n",
      "Getting visualization...Saving output.\n",
      "Getting coverage...Saving output.\n",
      "\n",
      " good_teleport 0.4\n",
      "Output Directory: data/_outputs/Wave_3.1/good_teleport/agent_num=3/\n",
      "Getting visualization...Saving output.\n",
      "Getting coverage...Saving output.\n",
      "Wall time: 11.7 s\n"
     ]
    },
    {
     "data": {
      "text/plain": [
       "<Figure size 432x288 with 0 Axes>"
      ]
     },
     "metadata": {},
     "output_type": "display_data"
    }
   ],
   "source": [
    "%%time\n",
    "\"\"\"\n",
    "Generating Videos\n",
    "\"\"\"\n",
    "\n",
    "if TELEPORT_INCLUDED:   \n",
    "    for method in teleport_averages:\n",
    "        for agent_num in teleport_averages[method]:\n",
    "            if agent_num == '0.5':\n",
    "                continue\n",
    "            export_directory = \"data/_outputs/Wave_3.1/\" + f\"{method}/agent_num={3}/\"\n",
    "            print(\"\\n\", method, agent_num)\n",
    "            print(f\"Output Directory: {export_directory}\")\n",
    "            result = teleport_results['0.4'][str(3)][0]\n",
    "            agent_exp = None\n",
    "            if method == 'model':\n",
    "                agent_exp = result['relevant_training_episodes']['hi_mut-dia']['exp']\n",
    "            else:\n",
    "                agent_exp = result['relevant_testing_results']['standard_starts'][method]['exp']\n",
    "\n",
    "            paths, heats = data_from_exp(agent_exp, result['all_params'])\n",
    "            world_dims = result['all_params']['sim_params']['world_dim']\n",
    "\n",
    "\n",
    "            v = Visualization(moves=paths, groundTruth=[[0]*np.prod(world_dims)], heatmaps=[[]], exportDirectory=export_directory, \n",
    "                             suppressOutput=1, suppressVideo=0, datadisplayed=(), dimensions=world_dims, scale=7)\n",
    "            v.visualize()"
   ]
  },
  {
   "cell_type": "code",
   "execution_count": null,
   "metadata": {},
   "outputs": [],
   "source": []
  }
 ],
 "metadata": {
  "kernelspec": {
   "display_name": "Python 3",
   "language": "python",
   "name": "python3"
  },
  "language_info": {
   "codemirror_mode": {
    "name": "ipython",
    "version": 3
   },
   "file_extension": ".py",
   "mimetype": "text/x-python",
   "name": "python",
   "nbconvert_exporter": "python",
   "pygments_lexer": "ipython3",
   "version": "3.8.0"
  }
 },
 "nbformat": 4,
 "nbformat_minor": 4
}